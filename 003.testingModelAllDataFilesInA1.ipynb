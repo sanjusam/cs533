{
 "cells": [
  {
   "cell_type": "code",
   "execution_count": 1,
   "metadata": {},
   "outputs": [],
   "source": [
    "import keras\n",
    "import matplotlib.pyplot as plt\n",
    "import numpy as np\n",
    "from keras.models import Sequential\n",
    "from keras.layers import Dense\n",
    "from keras.utils import to_categorical\n",
    "import os\n",
    "import pandas as pd\n",
    "from matplotlib import pyplot as plt\n",
    "from sklearn.preprocessing import StandardScaler\n",
    "from math import sqrt\n",
    "import glob"
   ]
  },
  {
   "cell_type": "code",
   "execution_count": 2,
   "metadata": {},
   "outputs": [],
   "source": [
    "#YAHOO_DS=\"C:\\CSU\\CS-533\\TERM-PROJECT\\WS\\WORK\\Stochastic-Methods\\data\\yahoo\\dataset\\ydata-labeled-time-series-anomalies-v1_0\"\n",
    "YAHOO_DS=\"/root/WS/CS-533/TERM-PROJECT/Stochastic-Methods/data/yahoo/dataset/ydata-labeled-time-series-anomalies-v1_0\"\n",
    "DIRS = ['A1Benchmark', 'A2Benchmark','A3Benchmark', 'A4Benchmark']\n",
    "DATA_FILE_EXTENSION = \"*.csv\""
   ]
  },
  {
   "cell_type": "code",
   "execution_count": 3,
   "metadata": {},
   "outputs": [
    {
     "data": {
      "text/plain": [
       "'/root/WS/CS-533/TERM-PROJECT/Stochastic-Methods/data/yahoo/dataset/ydata-labeled-time-series-anomalies-v1_0/A1Benchmark/'"
      ]
     },
     "execution_count": 3,
     "metadata": {},
     "output_type": "execute_result"
    }
   ],
   "source": [
    "A1Benchmark_dir  = YAHOO_DS + os.path.sep + DIRS[0] + os.path.sep \n",
    "A1Benchmark_dir"
   ]
  },
  {
   "cell_type": "code",
   "execution_count": 4,
   "metadata": {},
   "outputs": [],
   "source": [
    "#A1 = glob.glob(f'../data/yahoo/dataset/ydata-labeled-time-series-anomalies-v1_0/A1Benchmark/**/*.csv', recursive=True)\n",
    "A1 = glob.glob(A1Benchmark_dir + DATA_FILE_EXTENSION, recursive=True)\n",
    "#A1"
   ]
  },
  {
   "cell_type": "code",
   "execution_count": 5,
   "metadata": {},
   "outputs": [],
   "source": [
    "df_indexed_all = pd.DataFrame()\n",
    "for data_file in A1:\n",
    "    df = pd.read_csv(data_file)\n",
    "    df['timestamp'] = pd.to_datetime(df['timestamp'],unit='s')#format='%f' if formatting required upto nanoseconds\n",
    "    df_indexed = df.set_index('timestamp')\n",
    "    df_indexed_all = df_indexed_all.append(df_indexed)\n",
    "    #print (data_file)\n",
    "#dfarray[0]"
   ]
  },
  {
   "cell_type": "code",
   "execution_count": 6,
   "metadata": {},
   "outputs": [
    {
     "data": {
      "text/html": [
       "<div>\n",
       "<style scoped>\n",
       "    .dataframe tbody tr th:only-of-type {\n",
       "        vertical-align: middle;\n",
       "    }\n",
       "\n",
       "    .dataframe tbody tr th {\n",
       "        vertical-align: top;\n",
       "    }\n",
       "\n",
       "    .dataframe thead th {\n",
       "        text-align: right;\n",
       "    }\n",
       "</style>\n",
       "<table border=\"1\" class=\"dataframe\">\n",
       "  <thead>\n",
       "    <tr style=\"text-align: right;\">\n",
       "      <th></th>\n",
       "      <th>value</th>\n",
       "      <th>is_anomaly</th>\n",
       "    </tr>\n",
       "    <tr>\n",
       "      <th>timestamp</th>\n",
       "      <th></th>\n",
       "      <th></th>\n",
       "    </tr>\n",
       "  </thead>\n",
       "  <tbody>\n",
       "    <tr>\n",
       "      <th>1970-01-01 00:00:01</th>\n",
       "      <td>0.000000</td>\n",
       "      <td>0</td>\n",
       "    </tr>\n",
       "    <tr>\n",
       "      <th>1970-01-01 00:00:02</th>\n",
       "      <td>0.091758</td>\n",
       "      <td>0</td>\n",
       "    </tr>\n",
       "    <tr>\n",
       "      <th>1970-01-01 00:00:03</th>\n",
       "      <td>0.172297</td>\n",
       "      <td>0</td>\n",
       "    </tr>\n",
       "    <tr>\n",
       "      <th>1970-01-01 00:00:04</th>\n",
       "      <td>0.226219</td>\n",
       "      <td>0</td>\n",
       "    </tr>\n",
       "    <tr>\n",
       "      <th>1970-01-01 00:00:05</th>\n",
       "      <td>0.176358</td>\n",
       "      <td>0</td>\n",
       "    </tr>\n",
       "    <tr>\n",
       "      <th>...</th>\n",
       "      <td>...</td>\n",
       "      <td>...</td>\n",
       "    </tr>\n",
       "    <tr>\n",
       "      <th>1970-01-01 00:24:17</th>\n",
       "      <td>0.016364</td>\n",
       "      <td>0</td>\n",
       "    </tr>\n",
       "    <tr>\n",
       "      <th>1970-01-01 00:24:18</th>\n",
       "      <td>0.017500</td>\n",
       "      <td>0</td>\n",
       "    </tr>\n",
       "    <tr>\n",
       "      <th>1970-01-01 00:24:19</th>\n",
       "      <td>0.022778</td>\n",
       "      <td>0</td>\n",
       "    </tr>\n",
       "    <tr>\n",
       "      <th>1970-01-01 00:24:20</th>\n",
       "      <td>0.025833</td>\n",
       "      <td>0</td>\n",
       "    </tr>\n",
       "    <tr>\n",
       "      <th>1970-01-01 00:24:21</th>\n",
       "      <td>0.034722</td>\n",
       "      <td>0</td>\n",
       "    </tr>\n",
       "  </tbody>\n",
       "</table>\n",
       "<p>94866 rows × 2 columns</p>\n",
       "</div>"
      ],
      "text/plain": [
       "                        value  is_anomaly\n",
       "timestamp                                \n",
       "1970-01-01 00:00:01  0.000000           0\n",
       "1970-01-01 00:00:02  0.091758           0\n",
       "1970-01-01 00:00:03  0.172297           0\n",
       "1970-01-01 00:00:04  0.226219           0\n",
       "1970-01-01 00:00:05  0.176358           0\n",
       "...                       ...         ...\n",
       "1970-01-01 00:24:17  0.016364           0\n",
       "1970-01-01 00:24:18  0.017500           0\n",
       "1970-01-01 00:24:19  0.022778           0\n",
       "1970-01-01 00:24:20  0.025833           0\n",
       "1970-01-01 00:24:21  0.034722           0\n",
       "\n",
       "[94866 rows x 2 columns]"
      ]
     },
     "execution_count": 6,
     "metadata": {},
     "output_type": "execute_result"
    }
   ],
   "source": [
    "df_indexed_all"
   ]
  },
  {
   "cell_type": "code",
   "execution_count": 7,
   "metadata": {},
   "outputs": [],
   "source": [
    "values = df_indexed_all.copy()\n",
    "values = values.drop(columns=['is_anomaly'],axis=1)\n",
    "scaler2 = StandardScaler()\n",
    "scaler2 = scaler2.fit(values)\n",
    "standardaized = scaler2.transform(values)\n",
    "df_indexed_all['std_value'] = standardaized"
   ]
  },
  {
   "cell_type": "code",
   "execution_count": 8,
   "metadata": {},
   "outputs": [],
   "source": [
    "X = values.values.reshape(-1, )\n",
    "Y = df_indexed_all['is_anomaly'].values.reshape(-1, )"
   ]
  },
  {
   "cell_type": "code",
   "execution_count": 9,
   "metadata": {},
   "outputs": [],
   "source": [
    "# Create the model\n",
    "model = Sequential()\n",
    "#model.add(Dense(12, input_dim=1, activation='relu'))\n",
    "model.add(Dense(100, input_dim=1, activation='relu'))\n",
    "model.add(Dense(50, activation='relu'))\n",
    "model.add(Dense(5, activation='relu'))\n",
    "model.add(Dense(1, activation='sigmoid'))"
   ]
  },
  {
   "cell_type": "code",
   "execution_count": 10,
   "metadata": {},
   "outputs": [
    {
     "data": {
      "text/plain": [
       "<tensorflow.python.keras.engine.sequential.Sequential at 0x7f7145c8fa30>"
      ]
     },
     "execution_count": 10,
     "metadata": {},
     "output_type": "execute_result"
    }
   ],
   "source": [
    "model"
   ]
  },
  {
   "cell_type": "code",
   "execution_count": 11,
   "metadata": {},
   "outputs": [],
   "source": [
    "#model.compile(loss='categorical_crossentropy', optimizer='adam', metrics=['accuracy'])\n",
    "model.compile(loss='binary_crossentropy', optimizer='adam', metrics=['accuracy'])"
   ]
  },
  {
   "cell_type": "code",
   "execution_count": 12,
   "metadata": {},
   "outputs": [
    {
     "name": "stdout",
     "output_type": "stream",
     "text": [
      "Epoch 1/50\n",
      "9487/9487 [==============================] - 86s 9ms/step - loss: 0.4717 - accuracy: 0.9822\n",
      "Epoch 2/50\n",
      "9487/9487 [==============================] - 118s 12ms/step - loss: 0.0922 - accuracy: 0.9824\n",
      "Epoch 3/50\n",
      "9487/9487 [==============================] - 147s 15ms/step - loss: 0.0880 - accuracy: 0.9824\n",
      "Epoch 4/50\n",
      "9487/9487 [==============================] - 86s 9ms/step - loss: 0.0891 - accuracy: 0.9824\n",
      "Epoch 5/50\n",
      "9487/9487 [==============================] - 76s 8ms/step - loss: 0.0880 - accuracy: 0.9824\n",
      "Epoch 6/50\n",
      "9487/9487 [==============================] - 81s 9ms/step - loss: 0.1181 - accuracy: 0.9824\n",
      "Epoch 7/50\n",
      "9487/9487 [==============================] - 76s 8ms/step - loss: 0.0904 - accuracy: 0.9824\n",
      "Epoch 8/50\n",
      "9487/9487 [==============================] - 80s 8ms/step - loss: 0.0880 - accuracy: 0.9824\n",
      "Epoch 9/50\n",
      "9487/9487 [==============================] - 69s 7ms/step - loss: 0.0880 - accuracy: 0.9824\n",
      "Epoch 10/50\n",
      "9487/9487 [==============================] - 77s 8ms/step - loss: 0.0879 - accuracy: 0.9824\n",
      "Epoch 11/50\n",
      "9487/9487 [==============================] - 72s 8ms/step - loss: 0.0879 - accuracy: 0.9824\n",
      "Epoch 12/50\n",
      "9487/9487 [==============================] - 75s 8ms/step - loss: 0.0879 - accuracy: 0.9824\n",
      "Epoch 13/50\n",
      "9487/9487 [==============================] - 70s 7ms/step - loss: 0.0879 - accuracy: 0.9824\n",
      "Epoch 14/50\n",
      "9487/9487 [==============================] - 73s 8ms/step - loss: 0.0897 - accuracy: 0.9824\n",
      "Epoch 15/50\n",
      "9487/9487 [==============================] - 72s 8ms/step - loss: 0.0901 - accuracy: 0.9824\n",
      "Epoch 16/50\n",
      "9487/9487 [==============================] - 81s 8ms/step - loss: 0.0891 - accuracy: 0.9824\n",
      "Epoch 17/50\n",
      "9487/9487 [==============================] - 73s 8ms/step - loss: 0.0881 - accuracy: 0.9824\n",
      "Epoch 18/50\n",
      "9487/9487 [==============================] - 75s 8ms/step - loss: 0.0881 - accuracy: 0.9824\n",
      "Epoch 19/50\n",
      "9487/9487 [==============================] - 79s 8ms/step - loss: 0.0885 - accuracy: 0.9824\n",
      "Epoch 20/50\n",
      "9487/9487 [==============================] - 70s 7ms/step - loss: 0.0899 - accuracy: 0.9824\n",
      "Epoch 21/50\n",
      "9487/9487 [==============================] - 69s 7ms/step - loss: 0.2154 - accuracy: 0.9824\n",
      "Epoch 22/50\n",
      "9487/9487 [==============================] - 71s 8ms/step - loss: 0.0891 - accuracy: 0.9824\n",
      "Epoch 23/50\n",
      "9487/9487 [==============================] - 73s 8ms/step - loss: 0.0878 - accuracy: 0.9824\n",
      "Epoch 24/50\n",
      "9487/9487 [==============================] - 93s 10ms/step - loss: 0.0878 - accuracy: 0.9824\n",
      "Epoch 25/50\n",
      "9487/9487 [==============================] - 84s 9ms/step - loss: 0.1030 - accuracy: 0.9824\n",
      "Epoch 26/50\n",
      "9487/9487 [==============================] - 77s 8ms/step - loss: 0.0881 - accuracy: 0.9824\n",
      "Epoch 27/50\n",
      "9487/9487 [==============================] - 72s 8ms/step - loss: 0.0879 - accuracy: 0.9824\n",
      "Epoch 28/50\n",
      "9487/9487 [==============================] - 80s 8ms/step - loss: 0.0876 - accuracy: 0.9824\n",
      "Epoch 29/50\n",
      "9487/9487 [==============================] - 71s 8ms/step - loss: 0.0876 - accuracy: 0.9824\n",
      "Epoch 30/50\n",
      "9487/9487 [==============================] - 70s 7ms/step - loss: 0.0878 - accuracy: 0.9824\n",
      "Epoch 31/50\n",
      "9487/9487 [==============================] - 73s 8ms/step - loss: 0.0878 - accuracy: 0.9824\n",
      "Epoch 32/50\n",
      "9487/9487 [==============================] - 77s 8ms/step - loss: 0.0875 - accuracy: 0.9824\n",
      "Epoch 33/50\n",
      "9487/9487 [==============================] - 69s 7ms/step - loss: 0.0875 - accuracy: 0.9824\n",
      "Epoch 34/50\n",
      "9487/9487 [==============================] - 71s 7ms/step - loss: 0.0890 - accuracy: 0.9824\n",
      "Epoch 35/50\n",
      "9487/9487 [==============================] - 71s 7ms/step - loss: 0.0874 - accuracy: 0.9824\n",
      "Epoch 36/50\n",
      "9487/9487 [==============================] - 72s 8ms/step - loss: 0.0911 - accuracy: 0.9824\n",
      "Epoch 37/50\n",
      "9487/9487 [==============================] - 70s 7ms/step - loss: 0.0874 - accuracy: 0.9824\n",
      "Epoch 38/50\n",
      "9487/9487 [==============================] - 69s 7ms/step - loss: 0.0875 - accuracy: 0.9824\n",
      "Epoch 39/50\n",
      "9487/9487 [==============================] - 67s 7ms/step - loss: 0.0927 - accuracy: 0.9824\n",
      "Epoch 40/50\n",
      "9487/9487 [==============================] - 85s 9ms/step - loss: 0.0875 - accuracy: 0.9824\n",
      "Epoch 41/50\n",
      "9487/9487 [==============================] - 73s 8ms/step - loss: 0.0914 - accuracy: 0.9824\n",
      "Epoch 42/50\n",
      "9487/9487 [==============================] - 75s 8ms/step - loss: 0.0931 - accuracy: 0.9824\n",
      "Epoch 43/50\n",
      "9487/9487 [==============================] - 73s 8ms/step - loss: 0.0874 - accuracy: 0.9824\n",
      "Epoch 44/50\n",
      "9487/9487 [==============================] - 73s 8ms/step - loss: 0.0878 - accuracy: 0.9824\n",
      "Epoch 45/50\n",
      "9487/9487 [==============================] - 67s 7ms/step - loss: 0.0874 - accuracy: 0.9824\n",
      "Epoch 46/50\n",
      "9487/9487 [==============================] - 74s 8ms/step - loss: 0.0876 - accuracy: 0.9824\n",
      "Epoch 47/50\n",
      "9487/9487 [==============================] - 68s 7ms/step - loss: 0.0874 - accuracy: 0.9824\n",
      "Epoch 48/50\n",
      "9487/9487 [==============================] - 76s 8ms/step - loss: 0.0900 - accuracy: 0.9824\n",
      "Epoch 49/50\n",
      "9487/9487 [==============================] - 87s 9ms/step - loss: 0.0875 - accuracy: 0.9824\n",
      "Epoch 50/50\n",
      "9487/9487 [==============================] - 78s 8ms/step - loss: 0.0875 - accuracy: 0.9824\n"
     ]
    },
    {
     "data": {
      "text/plain": [
       "<tensorflow.python.keras.callbacks.History at 0x7f71ac145160>"
      ]
     },
     "execution_count": 12,
     "metadata": {},
     "output_type": "execute_result"
    }
   ],
   "source": [
    "#model.fit(X, Y, epochs=150, batch_size=10)\n",
    "model.fit(X, Y, epochs=50, batch_size=10)"
   ]
  },
  {
   "cell_type": "code",
   "execution_count": 14,
   "metadata": {},
   "outputs": [
    {
     "name": "stdout",
     "output_type": "stream",
     "text": [
      "2965/2965 [==============================] - 40s 14ms/step - loss: 0.0874 - accuracy: 0.9824\n",
      "Accuracy: 98.24\n"
     ]
    }
   ],
   "source": [
    "# evaluate the keras model\n",
    "_, accuracy = model.evaluate(X, Y)\n",
    "print('Accuracy: %.2f' % (accuracy*100))"
   ]
  },
  {
   "cell_type": "code",
   "execution_count": null,
   "metadata": {},
   "outputs": [],
   "source": []
  }
 ],
 "metadata": {
  "kernelspec": {
   "display_name": "Python 3",
   "language": "python",
   "name": "python3"
  },
  "language_info": {
   "codemirror_mode": {
    "name": "ipython",
    "version": 3
   },
   "file_extension": ".py",
   "mimetype": "text/x-python",
   "name": "python",
   "nbconvert_exporter": "python",
   "pygments_lexer": "ipython3",
   "version": "3.8.3"
  }
 },
 "nbformat": 4,
 "nbformat_minor": 4
}
