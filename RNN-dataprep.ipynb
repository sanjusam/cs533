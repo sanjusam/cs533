{
 "cells": [
  {
   "cell_type": "code",
   "execution_count": 1,
   "metadata": {},
   "outputs": [],
   "source": [
    "import sys\n",
    "import os\n",
    "import time\n",
    "import glob\n",
    "import pandas as pd\n",
    "import numpy as np\n",
    "from math import sqrt\n",
    "import matplotlib as mpl\n",
    "import matplotlib.pyplot as plt\n",
    "from sklearn.preprocessing import StandardScaler\n",
    "from sklearn.preprocessing import MinMaxScaler\n",
    "from sklearn.metrics import confusion_matrix, precision_score, recall_score, f1_score\n",
    "from sklearn.model_selection import RandomizedSearchCV\n",
    "import tensorflow as tf\n",
    "from tensorflow import keras\n",
    "from tensorflow.keras.models import Sequential\n",
    "from tensorflow.keras.layers import Dense"
   ]
  },
  {
   "cell_type": "code",
   "execution_count": 2,
   "metadata": {},
   "outputs": [
    {
     "name": "stdout",
     "output_type": "stream",
     "text": [
      "python version sys.version_info(major=3, minor=8, micro=5, releaselevel='final', serial=0)\n",
      "tf version 2.2.0 keras version 2.3.0-tf\n"
     ]
    }
   ],
   "source": [
    "print('python version', sys.version_info)\n",
    "print('tf version', tf.__version__, 'keras version', keras.__version__)"
   ]
  },
  {
   "cell_type": "code",
   "execution_count": 3,
   "metadata": {},
   "outputs": [],
   "source": [
    "%matplotlib inline\n",
    "mpl.rc('axes', labelsize=14)\n",
    "mpl.rc('xtick', labelsize=12)\n",
    "mpl.rc('ytick', labelsize=12)"
   ]
  },
  {
   "cell_type": "markdown",
   "metadata": {},
   "source": [
    "# Data Source folders"
   ]
  },
  {
   "cell_type": "code",
   "execution_count": 4,
   "metadata": {},
   "outputs": [
    {
     "name": "stdout",
     "output_type": "stream",
     "text": [
      "benchmark folders and file extensions\n",
      "../Stochastic-Methods/data/yahoo/dataset/ydata-labeled-time-series-anomalies-v1_0/A1Benchmark/ .. file extensions *.csv\n",
      "../Stochastic-Methods/data/yahoo/dataset/ydata-labeled-time-series-anomalies-v1_0/A2Benchmark/ .. file extensions *.csv\n",
      "../Stochastic-Methods/data/yahoo/dataset/ydata-labeled-time-series-anomalies-v1_0/A3Benchmark/ .. file extensions *TS*.csv\n",
      "../Stochastic-Methods/data/yahoo/dataset/ydata-labeled-time-series-anomalies-v1_0/A4Benchmark/ .. file extensions *TS*.csv\n"
     ]
    }
   ],
   "source": [
    "YAHOO_DS=\"../Stochastic-Methods/data/yahoo/dataset/ydata-labeled-time-series-anomalies-v1_0\"\n",
    "DIRS_FILE_EXTENSIONS = {'A1Benchmark' : \"*.csv\", \\\n",
    "                        'A2Benchmark' : \"*.csv\", \\\n",
    "                        'A3Benchmark' : \"*TS*.csv\", \\\n",
    "                        'A4Benchmark' : \"*TS*.csv\" }\n",
    "\n",
    "print(\"benchmark folders and file extensions\")\n",
    "for DIR, extension in DIRS_FILE_EXTENSIONS.items():\n",
    "    Benchmark_dir  = YAHOO_DS + os.path.sep + DIR + os.path.sep \n",
    "    print(\"{} .. file extensions {}\".format(Benchmark_dir, extension))"
   ]
  },
  {
   "cell_type": "code",
   "execution_count": 5,
   "metadata": {},
   "outputs": [
    {
     "data": {
      "text/plain": [
       "((43500,), (72,))"
      ]
     },
     "execution_count": 5,
     "metadata": {},
     "output_type": "execute_result"
    }
   ],
   "source": [
    "colnames =['time', 'a1', 'a2', 'a3', 'a4', 'a5', 'a6', 'a7', 'a8', 'class']\n",
    "nasa = pd.read_csv(\"../Stochastic-Methods/data/nasa/shuttle.trn/shuttle.trn\",names=colnames,sep=\" \")\n",
    "times = nasa['time'].values.astype(int)\n",
    "times.shape, np.unique(times).shape"
   ]
  },
  {
   "cell_type": "code",
   "execution_count": 6,
   "metadata": {},
   "outputs": [],
   "source": [
    "def read_data_with_labels(file, timeVariantColumns, labelColumnNum):\n",
    "    df = pd.read_csv(file)\n",
    "    data = df.values.astype('float64')\n",
    "    tsData = df[timeVariantColumns].values.astype('float64')\n",
    "    labels = data[:, labelColumnNum].reshape((-1,1))\n",
    "    tsDataWithLabels = np.hstack((tsData, labels))\n",
    "    return tsDataWithLabels, data"
   ]
  },
  {
   "cell_type": "markdown",
   "metadata": {},
   "source": [
    "# Get look back dataset "
   ]
  },
  {
   "cell_type": "code",
   "execution_count": 45,
   "metadata": {},
   "outputs": [],
   "source": [
    "# input expected to be a 2D array with last column being label\n",
    "# Returns looked back X adn Y; last column in look back Y data returned is label\n",
    "# Only one step ahead prediction setting is expected.\n",
    "\n",
    "def look_back_and_create_dataset(tsDataWithLabels, look_back = 1):\n",
    "    lookbackTsDataX = [] \n",
    "    lookbackTsDataYAndLabel = []\n",
    "    for i in range(look_back, len(tsDataWithLabels)):\n",
    "        a = tsDataWithLabels[i-look_back:i, :-1]\n",
    "        lookbackTsDataX.append(a)\n",
    "        lookbackTsDataYAndLabel.append(tsDataWithLabels[i])\n",
    "    return np.array(lookbackTsDataX), np.array(lookbackTsDataYAndLabel)"
   ]
  },
  {
   "cell_type": "markdown",
   "metadata": {},
   "source": [
    "### univariate"
   ]
  },
  {
   "cell_type": "code",
   "execution_count": 46,
   "metadata": {},
   "outputs": [
    {
     "name": "stdout",
     "output_type": "stream",
     "text": [
      "Shapes: time variant data with labels (1421, 2), full data (1421, 3)\n"
     ]
    }
   ],
   "source": [
    "timeVariantColumns = ['value']\n",
    "labelColumnNum = 2\n",
    "file_name = \"../Stochastic-Methods/data/yahoo/dataset/ydata-labeled-time-series-anomalies-v1_0/A2Benchmark/synthetic_10.csv\"\n",
    "tsDataWithLabels, data = read_data_with_labels(file_name, timeVariantColumns, labelColumnNum)\n",
    "print(\"Shapes: time variant data with labels {}, full data {}\".format(tsDataWithLabels.shape, data.shape))"
   ]
  },
  {
   "cell_type": "code",
   "execution_count": 47,
   "metadata": {
    "scrolled": false
   },
   "outputs": [
    {
     "name": "stdout",
     "output_type": "stream",
     "text": [
      "Look back data shapes: lookbackX (1416, 5, 1) lookbackY (1416, 2)\n",
      "Look back data ... first 10 \n",
      "\n",
      "[[127.69923816]\n",
      " [ 23.06961419]\n",
      " [246.1188566 ]\n",
      " [295.93781848]\n",
      " [264.6499858 ]] (5, 1) [122.23286746   0.        ] (2,)\n",
      "[[ 23.06961419]\n",
      " [246.1188566 ]\n",
      " [295.93781848]\n",
      " [264.6499858 ]\n",
      " [122.23286746]] (5, 1) [238.54006612   0.        ] (2,)\n",
      "[[246.1188566 ]\n",
      " [295.93781848]\n",
      " [264.6499858 ]\n",
      " [122.23286746]\n",
      " [238.54006612]] (5, 1) [356.59069416   0.        ] (2,)\n",
      "[[295.93781848]\n",
      " [264.6499858 ]\n",
      " [122.23286746]\n",
      " [238.54006612]\n",
      " [356.59069416]] (5, 1) [439.19625187   0.        ] (2,)\n",
      "[[264.6499858 ]\n",
      " [122.23286746]\n",
      " [238.54006612]\n",
      " [356.59069416]\n",
      " [439.19625187]] (5, 1) [735.37467526   0.        ] (2,)\n",
      "[[122.23286746]\n",
      " [238.54006612]\n",
      " [356.59069416]\n",
      " [439.19625187]\n",
      " [735.37467526]] (5, 1) [621.57485665   0.        ] (2,)\n",
      "[[238.54006612]\n",
      " [356.59069416]\n",
      " [439.19625187]\n",
      " [735.37467526]\n",
      " [621.57485665]] (5, 1) [514.83835704   0.        ] (2,)\n",
      "[[356.59069416]\n",
      " [439.19625187]\n",
      " [735.37467526]\n",
      " [621.57485665]\n",
      " [514.83835704]] (5, 1) [529.76966501   0.        ] (2,)\n",
      "[[439.19625187]\n",
      " [735.37467526]\n",
      " [621.57485665]\n",
      " [514.83835704]\n",
      " [529.76966501]] (5, 1) [665.57120413   0.        ] (2,)\n",
      "[[735.37467526]\n",
      " [621.57485665]\n",
      " [514.83835704]\n",
      " [529.76966501]\n",
      " [665.57120413]] (5, 1) [712.61129427   0.        ] (2,)\n"
     ]
    }
   ],
   "source": [
    "# look back and create reshaped dataset\n",
    "lookbackX, lookbackY = look_back_and_create_dataset(tsDataWithLabels, look_back=5)\n",
    "print(\"Look back data shapes: lookbackX {} lookbackY {}\".format(lookbackX.shape, lookbackY.shape))\n",
    "print(\"Look back data ... first 10 \\n\")\n",
    "for i in range (10):\n",
    "    print(lookbackX[i], lookbackX[i].shape, lookbackY[i], lookbackY[i].shape)"
   ]
  },
  {
   "cell_type": "code",
   "execution_count": 48,
   "metadata": {},
   "outputs": [
    {
     "data": {
      "text/plain": [
       "((1416, 5, 1), (1416, 1))"
      ]
     },
     "execution_count": 48,
     "metadata": {},
     "output_type": "execute_result"
    }
   ],
   "source": [
    "X = lookbackX\n",
    "Y = lookbackY[:, :-1] # exclude label\n",
    "X.shape, Y.shape"
   ]
  },
  {
   "cell_type": "code",
   "execution_count": 49,
   "metadata": {},
   "outputs": [
    {
     "name": "stdout",
     "output_type": "stream",
     "text": [
      "[[127.69923816]\n",
      " [ 23.06961419]\n",
      " [246.1188566 ]\n",
      " [295.93781848]\n",
      " [264.6499858 ]] (5, 1) [122.23286746] (1,)\n",
      "[[ 23.06961419]\n",
      " [246.1188566 ]\n",
      " [295.93781848]\n",
      " [264.6499858 ]\n",
      " [122.23286746]] (5, 1) [238.54006612] (1,)\n",
      "[[246.1188566 ]\n",
      " [295.93781848]\n",
      " [264.6499858 ]\n",
      " [122.23286746]\n",
      " [238.54006612]] (5, 1) [356.59069416] (1,)\n",
      "[[295.93781848]\n",
      " [264.6499858 ]\n",
      " [122.23286746]\n",
      " [238.54006612]\n",
      " [356.59069416]] (5, 1) [439.19625187] (1,)\n",
      "[[264.6499858 ]\n",
      " [122.23286746]\n",
      " [238.54006612]\n",
      " [356.59069416]\n",
      " [439.19625187]] (5, 1) [735.37467526] (1,)\n",
      "[[122.23286746]\n",
      " [238.54006612]\n",
      " [356.59069416]\n",
      " [439.19625187]\n",
      " [735.37467526]] (5, 1) [621.57485665] (1,)\n",
      "[[238.54006612]\n",
      " [356.59069416]\n",
      " [439.19625187]\n",
      " [735.37467526]\n",
      " [621.57485665]] (5, 1) [514.83835704] (1,)\n",
      "[[356.59069416]\n",
      " [439.19625187]\n",
      " [735.37467526]\n",
      " [621.57485665]\n",
      " [514.83835704]] (5, 1) [529.76966501] (1,)\n",
      "[[439.19625187]\n",
      " [735.37467526]\n",
      " [621.57485665]\n",
      " [514.83835704]\n",
      " [529.76966501]] (5, 1) [665.57120413] (1,)\n",
      "[[735.37467526]\n",
      " [621.57485665]\n",
      " [514.83835704]\n",
      " [529.76966501]\n",
      " [665.57120413]] (5, 1) [712.61129427] (1,)\n"
     ]
    }
   ],
   "source": [
    "for i in range(10):\n",
    "    print(X[i], X[i].shape, Y[i], Y[i].shape)"
   ]
  },
  {
   "cell_type": "markdown",
   "metadata": {},
   "source": [
    "## multivariate"
   ]
  },
  {
   "cell_type": "code",
   "execution_count": 50,
   "metadata": {},
   "outputs": [],
   "source": [
    "in_seq1 = np.array([10, 20, 30, 40, 50, 60, 70, 80, 90, 100, 110, 120, 130, 140, 150])\n",
    "in_seq2 = np.array([15, 25, 35, 45, 55, 65, 75, 85, 95, 105, 115, 125, 135, 145, 155])\n",
    "out_seq = np.array([in_seq1[i]+in_seq2[i] for i in range(len(in_seq1))])\n",
    "labels = np.array([0,1,0,1,0,1,0,1,0,1,0,1,0,1,0]).reshape((-1, 1))\n",
    "# convert to [rows, columns] structure\n",
    "in_seq1 = in_seq1.reshape((len(in_seq1), 1))\n",
    "in_seq2 = in_seq2.reshape((len(in_seq2), 1))\n",
    "out_seq = out_seq.reshape((len(out_seq), 1))\n",
    "# horizontally stack columns\n",
    "mvdataWithLabels = np.hstack((in_seq1, in_seq2, out_seq, labels))"
   ]
  },
  {
   "cell_type": "code",
   "execution_count": 51,
   "metadata": {},
   "outputs": [
    {
     "data": {
      "text/plain": [
       "((15, 4),\n",
       " array([[ 10,  15,  25,   0],\n",
       "        [ 20,  25,  45,   1],\n",
       "        [ 30,  35,  65,   0],\n",
       "        [ 40,  45,  85,   1],\n",
       "        [ 50,  55, 105,   0],\n",
       "        [ 60,  65, 125,   1],\n",
       "        [ 70,  75, 145,   0],\n",
       "        [ 80,  85, 165,   1],\n",
       "        [ 90,  95, 185,   0],\n",
       "        [100, 105, 205,   1],\n",
       "        [110, 115, 225,   0],\n",
       "        [120, 125, 245,   1],\n",
       "        [130, 135, 265,   0],\n",
       "        [140, 145, 285,   1],\n",
       "        [150, 155, 305,   0]]))"
      ]
     },
     "execution_count": 51,
     "metadata": {},
     "output_type": "execute_result"
    }
   ],
   "source": [
    "mvdataWithLabels.shape, mvdataWithLabels"
   ]
  },
  {
   "cell_type": "code",
   "execution_count": 55,
   "metadata": {},
   "outputs": [
    {
     "name": "stdout",
     "output_type": "stream",
     "text": [
      "Look back data shapes: lookbackX (10, 5, 3) lookbackY (10, 4)\n",
      "Look back lookBackTsData ... \n",
      "\n",
      "[[ 10  15  25]\n",
      " [ 20  25  45]\n",
      " [ 30  35  65]\n",
      " [ 40  45  85]\n",
      " [ 50  55 105]] (5, 3) [ 60  65 125   1] (4,)\n",
      "[[ 20  25  45]\n",
      " [ 30  35  65]\n",
      " [ 40  45  85]\n",
      " [ 50  55 105]\n",
      " [ 60  65 125]] (5, 3) [ 70  75 145   0] (4,)\n",
      "[[ 30  35  65]\n",
      " [ 40  45  85]\n",
      " [ 50  55 105]\n",
      " [ 60  65 125]\n",
      " [ 70  75 145]] (5, 3) [ 80  85 165   1] (4,)\n",
      "[[ 40  45  85]\n",
      " [ 50  55 105]\n",
      " [ 60  65 125]\n",
      " [ 70  75 145]\n",
      " [ 80  85 165]] (5, 3) [ 90  95 185   0] (4,)\n",
      "[[ 50  55 105]\n",
      " [ 60  65 125]\n",
      " [ 70  75 145]\n",
      " [ 80  85 165]\n",
      " [ 90  95 185]] (5, 3) [100 105 205   1] (4,)\n",
      "[[ 60  65 125]\n",
      " [ 70  75 145]\n",
      " [ 80  85 165]\n",
      " [ 90  95 185]\n",
      " [100 105 205]] (5, 3) [110 115 225   0] (4,)\n",
      "[[ 70  75 145]\n",
      " [ 80  85 165]\n",
      " [ 90  95 185]\n",
      " [100 105 205]\n",
      " [110 115 225]] (5, 3) [120 125 245   1] (4,)\n",
      "[[ 80  85 165]\n",
      " [ 90  95 185]\n",
      " [100 105 205]\n",
      " [110 115 225]\n",
      " [120 125 245]] (5, 3) [130 135 265   0] (4,)\n",
      "[[ 90  95 185]\n",
      " [100 105 205]\n",
      " [110 115 225]\n",
      " [120 125 245]\n",
      " [130 135 265]] (5, 3) [140 145 285   1] (4,)\n",
      "[[100 105 205]\n",
      " [110 115 225]\n",
      " [120 125 245]\n",
      " [130 135 265]\n",
      " [140 145 285]] (5, 3) [150 155 305   0] (4,)\n"
     ]
    }
   ],
   "source": [
    "lookbackX, lookbackY = look_back_and_create_dataset(mvdataWithLabels, look_back=5)\n",
    "print(\"Look back data shapes: lookbackX {} lookbackY {}\".format(lookbackX.shape, lookBackY.shape))\n",
    "print(\"Look back lookBackTsData ... \\n\")\n",
    "for i in range (len(lookbackX)):\n",
    "    print(lookbackX[i], lookbackX[i].shape, lookbackY[i], lookbackY[i].shape)"
   ]
  },
  {
   "cell_type": "code",
   "execution_count": 56,
   "metadata": {},
   "outputs": [
    {
     "data": {
      "text/plain": [
       "((10, 5, 3), (10, 3))"
      ]
     },
     "execution_count": 56,
     "metadata": {},
     "output_type": "execute_result"
    }
   ],
   "source": [
    "X = lookbackX\n",
    "Y = lookBackY[:, :-1] # exclude label\n",
    "X.shape, Y.shape"
   ]
  },
  {
   "cell_type": "code",
   "execution_count": 57,
   "metadata": {},
   "outputs": [
    {
     "name": "stdout",
     "output_type": "stream",
     "text": [
      "[[ 10  15  25]\n",
      " [ 20  25  45]\n",
      " [ 30  35  65]\n",
      " [ 40  45  85]\n",
      " [ 50  55 105]] (5, 3) [ 60  65 125] (3,)\n",
      "[[ 20  25  45]\n",
      " [ 30  35  65]\n",
      " [ 40  45  85]\n",
      " [ 50  55 105]\n",
      " [ 60  65 125]] (5, 3) [ 70  75 145] (3,)\n",
      "[[ 30  35  65]\n",
      " [ 40  45  85]\n",
      " [ 50  55 105]\n",
      " [ 60  65 125]\n",
      " [ 70  75 145]] (5, 3) [ 80  85 165] (3,)\n",
      "[[ 40  45  85]\n",
      " [ 50  55 105]\n",
      " [ 60  65 125]\n",
      " [ 70  75 145]\n",
      " [ 80  85 165]] (5, 3) [ 90  95 185] (3,)\n",
      "[[ 50  55 105]\n",
      " [ 60  65 125]\n",
      " [ 70  75 145]\n",
      " [ 80  85 165]\n",
      " [ 90  95 185]] (5, 3) [100 105 205] (3,)\n",
      "[[ 60  65 125]\n",
      " [ 70  75 145]\n",
      " [ 80  85 165]\n",
      " [ 90  95 185]\n",
      " [100 105 205]] (5, 3) [110 115 225] (3,)\n",
      "[[ 70  75 145]\n",
      " [ 80  85 165]\n",
      " [ 90  95 185]\n",
      " [100 105 205]\n",
      " [110 115 225]] (5, 3) [120 125 245] (3,)\n",
      "[[ 80  85 165]\n",
      " [ 90  95 185]\n",
      " [100 105 205]\n",
      " [110 115 225]\n",
      " [120 125 245]] (5, 3) [130 135 265] (3,)\n",
      "[[ 90  95 185]\n",
      " [100 105 205]\n",
      " [110 115 225]\n",
      " [120 125 245]\n",
      " [130 135 265]] (5, 3) [140 145 285] (3,)\n",
      "[[100 105 205]\n",
      " [110 115 225]\n",
      " [120 125 245]\n",
      " [130 135 265]\n",
      " [140 145 285]] (5, 3) [150 155 305] (3,)\n"
     ]
    }
   ],
   "source": [
    "for i in range(len(X)):\n",
    "    print(X[i], X[i].shape, Y[i], Y[i].shape)"
   ]
  },
  {
   "cell_type": "markdown",
   "metadata": {},
   "source": [
    "## NASA SMAP MSL telemetry data"
   ]
  },
  {
   "cell_type": "code",
   "execution_count": 22,
   "metadata": {},
   "outputs": [],
   "source": [
    "l_s = 250\n",
    "n_predictions = 10"
   ]
  },
  {
   "cell_type": "code",
   "execution_count": 23,
   "metadata": {},
   "outputs": [],
   "source": [
    "def shape_data(arr, l_s, n_predictions) :\n",
    "    data = []\n",
    "    for i in range(len(arr) - l_s - n_predictions):\n",
    "        data.append(arr[i:i + l_s + n_predictions])\n",
    "    data = np.array(data)\n",
    "    \n",
    "    X = data[:, :-n_predictions, :]\n",
    "    Y = data[:, -n_predictions:, 0]  # telemetry value is at position 0\n",
    "        \n",
    "    return data, X, Y"
   ]
  },
  {
   "cell_type": "code",
   "execution_count": 24,
   "metadata": {},
   "outputs": [
    {
     "name": "stdout",
     "output_type": "stream",
     "text": [
      "(2880, 25) (8640, 25)\n",
      "(2620, 260, 25) (2620, 250, 25) (2620, 10) (8380, 260, 25) (8380, 250, 25) (8380, 10)\n"
     ]
    }
   ],
   "source": [
    "for channel in ['A-1']:    \n",
    "    train = np.load(os.path.join(\"data\", \"train\", \"{}.npy\".format(channel)))\n",
    "    test = np.load(os.path.join(\"data\", \"test\", \"{}.npy\".format(channel)))\n",
    "    \n",
    "    print(train.shape, test.shape)\n",
    "    reshaped_train, X_train, Y_train  = shape_data(train, l_s, n_predictions)\n",
    "    reshaped_test, X_test, Y_test = shape_data(test, l_s, n_predictions)\n",
    "    print(reshaped_train.shape, X_train.shape, Y_train.shape, reshaped_test.shape, X_test.shape, Y_test.shape)"
   ]
  },
  {
   "cell_type": "code",
   "execution_count": 12,
   "metadata": {},
   "outputs": [
    {
     "name": "stdout",
     "output_type": "stream",
     "text": [
      "(array([0.999]), array([2880]))\n",
      "(array([0., 1.]), array([2776,  104]))\n",
      "(array([0., 1.]), array([2853,   27]))\n",
      "(array([0., 1.]), array([2798,   82]))\n",
      "(array([0., 1.]), array([2870,   10]))\n",
      "(array([0., 1.]), array([2388,  492]))\n",
      "(array([0., 1.]), array([2479,  401]))\n",
      "(array([0., 1.]), array([2876,    4]))\n",
      "(array([0., 1.]), array([2879,    1]))\n",
      "(array([0., 1.]), array([2878,    2]))\n",
      "(array([0.]), array([2880]))\n",
      "(array([0., 1.]), array([2876,    4]))\n",
      "(array([0.]), array([2880]))\n",
      "(array([0., 1.]), array([2877,    3]))\n",
      "(array([0., 1.]), array([2877,    3]))\n",
      "(array([0.]), array([2880]))\n",
      "(array([0.]), array([2880]))\n",
      "(array([0., 1.]), array([2798,   82]))\n",
      "(array([0., 1.]), array([2798,   82]))\n",
      "(array([0., 1.]), array([2839,   41]))\n",
      "(array([0., 1.]), array([2875,    5]))\n",
      "(array([0., 1.]), array([2769,  111]))\n",
      "(array([0., 1.]), array([2772,  108]))\n",
      "(array([0.]), array([2880]))\n",
      "(array([0.]), array([2880]))\n"
     ]
    }
   ],
   "source": [
    "for i in range(A1_train.shape[1]) :\n",
    "    print(np.unique(A1_train[:, i], return_counts=True))"
   ]
  }
 ],
 "metadata": {
  "kernelspec": {
   "display_name": "Python 3",
   "language": "python",
   "name": "python3"
  },
  "language_info": {
   "codemirror_mode": {
    "name": "ipython",
    "version": 3
   },
   "file_extension": ".py",
   "mimetype": "text/x-python",
   "name": "python",
   "nbconvert_exporter": "python",
   "pygments_lexer": "ipython3",
   "version": "3.8.5"
  }
 },
 "nbformat": 4,
 "nbformat_minor": 4
}
