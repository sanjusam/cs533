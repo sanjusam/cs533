{
 "cells": [
  {
   "cell_type": "code",
   "execution_count": 27,
   "metadata": {},
   "outputs": [],
   "source": [
    "import numpy as np\n",
    "import os\n",
    "import pandas as pd\n",
    "from matplotlib import pyplot as plt"
   ]
  },
  {
   "cell_type": "code",
   "execution_count": 12,
   "metadata": {},
   "outputs": [],
   "source": [
    "YAHOO_DS=\"C:\\CSU\\CS-533\\TERM-PROJECT\\WS\\WORK\\Stochastic-Methods\\data\\yahoo\\dataset\\ydata-labeled-time-series-anomalies-v1_0\"\n",
    "DIRS = ['A1Benchmark',\n",
    " 'A2Benchmark',\n",
    " 'A2Mutation',\n",
    " 'A3Benchmark',\n",
    " 'A4Benchmark']"
   ]
  },
  {
   "cell_type": "code",
   "execution_count": 13,
   "metadata": {},
   "outputs": [
    {
     "data": {
      "text/plain": [
       "('C:\\\\CSU\\\\CS-533\\\\TERM-PROJECT\\\\WS\\\\WORK\\\\Stochastic-Methods\\\\data\\\\yahoo\\\\dataset\\\\ydata-labeled-time-series-anomalies-v1_0',\n",
       " ['A1Benchmark', 'A2Benchmark', 'A2Mutation', 'A3Benchmark', 'A4Benchmark'])"
      ]
     },
     "execution_count": 13,
     "metadata": {},
     "output_type": "execute_result"
    }
   ],
   "source": [
    "YAHOO_DS, DIRS"
   ]
  },
  {
   "cell_type": "code",
   "execution_count": 14,
   "metadata": {},
   "outputs": [
    {
     "data": {
      "text/plain": [
       "'A1Benchmark'"
      ]
     },
     "execution_count": 14,
     "metadata": {},
     "output_type": "execute_result"
    }
   ],
   "source": [
    "DIRS[0]"
   ]
  },
  {
   "cell_type": "code",
   "execution_count": 17,
   "metadata": {},
   "outputs": [],
   "source": [
    "os.listdir(YAHOO_DS + os.path.sep + DIRS[0])  "
   ]
  },
  {
   "cell_type": "code",
   "execution_count": 21,
   "metadata": {},
   "outputs": [],
   "source": [
    "#Reading one file and checking the data\n",
    "df = pd.read_csv(YAHOO_DS + os.path.sep + DIRS[0] + os.path.sep + \"real_1.csv\") "
   ]
  },
  {
   "cell_type": "code",
   "execution_count": 23,
   "metadata": {},
   "outputs": [
    {
     "data": {
      "text/plain": [
       "0          1\n",
       "1          2\n",
       "2          3\n",
       "3          4\n",
       "4          5\n",
       "        ... \n",
       "1415    1416\n",
       "1416    1417\n",
       "1417    1418\n",
       "1418    1419\n",
       "1419    1420\n",
       "Name: timestamp, Length: 1420, dtype: int64"
      ]
     },
     "execution_count": 23,
     "metadata": {},
     "output_type": "execute_result"
    }
   ],
   "source": [
    "df['timestamp']"
   ]
  },
  {
   "cell_type": "code",
   "execution_count": 24,
   "metadata": {},
   "outputs": [
    {
     "data": {
      "text/plain": [
       "0      1970-01-01 00:00:01\n",
       "1      1970-01-01 00:00:02\n",
       "2      1970-01-01 00:00:03\n",
       "3      1970-01-01 00:00:04\n",
       "4      1970-01-01 00:00:05\n",
       "               ...        \n",
       "1415   1970-01-01 00:23:36\n",
       "1416   1970-01-01 00:23:37\n",
       "1417   1970-01-01 00:23:38\n",
       "1418   1970-01-01 00:23:39\n",
       "1419   1970-01-01 00:23:40\n",
       "Name: timestamp, Length: 1420, dtype: datetime64[ns]"
      ]
     },
     "execution_count": 24,
     "metadata": {},
     "output_type": "execute_result"
    }
   ],
   "source": [
    " pd.to_datetime(df['timestamp'],unit='s')"
   ]
  },
  {
   "cell_type": "code",
   "execution_count": 25,
   "metadata": {},
   "outputs": [],
   "source": [
    "df['timestamp'] = pd.to_datetime(df['timestamp'],unit='s')#format='%f' if formatting required upto nanoseconds"
   ]
  },
  {
   "cell_type": "code",
   "execution_count": 26,
   "metadata": {},
   "outputs": [
    {
     "data": {
      "text/html": [
       "<div>\n",
       "<style scoped>\n",
       "    .dataframe tbody tr th:only-of-type {\n",
       "        vertical-align: middle;\n",
       "    }\n",
       "\n",
       "    .dataframe tbody tr th {\n",
       "        vertical-align: top;\n",
       "    }\n",
       "\n",
       "    .dataframe thead th {\n",
       "        text-align: right;\n",
       "    }\n",
       "</style>\n",
       "<table border=\"1\" class=\"dataframe\">\n",
       "  <thead>\n",
       "    <tr style=\"text-align: right;\">\n",
       "      <th></th>\n",
       "      <th>timestamp</th>\n",
       "      <th>value</th>\n",
       "      <th>is_anomaly</th>\n",
       "    </tr>\n",
       "  </thead>\n",
       "  <tbody>\n",
       "    <tr>\n",
       "      <td>0</td>\n",
       "      <td>1970-01-01 00:00:01</td>\n",
       "      <td>0.000000</td>\n",
       "      <td>0</td>\n",
       "    </tr>\n",
       "    <tr>\n",
       "      <td>1</td>\n",
       "      <td>1970-01-01 00:00:02</td>\n",
       "      <td>0.091758</td>\n",
       "      <td>0</td>\n",
       "    </tr>\n",
       "    <tr>\n",
       "      <td>2</td>\n",
       "      <td>1970-01-01 00:00:03</td>\n",
       "      <td>0.172297</td>\n",
       "      <td>0</td>\n",
       "    </tr>\n",
       "    <tr>\n",
       "      <td>3</td>\n",
       "      <td>1970-01-01 00:00:04</td>\n",
       "      <td>0.226219</td>\n",
       "      <td>0</td>\n",
       "    </tr>\n",
       "    <tr>\n",
       "      <td>4</td>\n",
       "      <td>1970-01-01 00:00:05</td>\n",
       "      <td>0.176358</td>\n",
       "      <td>0</td>\n",
       "    </tr>\n",
       "    <tr>\n",
       "      <td>...</td>\n",
       "      <td>...</td>\n",
       "      <td>...</td>\n",
       "      <td>...</td>\n",
       "    </tr>\n",
       "    <tr>\n",
       "      <td>1415</td>\n",
       "      <td>1970-01-01 00:23:36</td>\n",
       "      <td>0.159675</td>\n",
       "      <td>0</td>\n",
       "    </tr>\n",
       "    <tr>\n",
       "      <td>1416</td>\n",
       "      <td>1970-01-01 00:23:37</td>\n",
       "      <td>0.137626</td>\n",
       "      <td>0</td>\n",
       "    </tr>\n",
       "    <tr>\n",
       "      <td>1417</td>\n",
       "      <td>1970-01-01 00:23:38</td>\n",
       "      <td>0.197441</td>\n",
       "      <td>0</td>\n",
       "    </tr>\n",
       "    <tr>\n",
       "      <td>1418</td>\n",
       "      <td>1970-01-01 00:23:39</td>\n",
       "      <td>0.161966</td>\n",
       "      <td>0</td>\n",
       "    </tr>\n",
       "    <tr>\n",
       "      <td>1419</td>\n",
       "      <td>1970-01-01 00:23:40</td>\n",
       "      <td>0.111648</td>\n",
       "      <td>0</td>\n",
       "    </tr>\n",
       "  </tbody>\n",
       "</table>\n",
       "<p>1420 rows × 3 columns</p>\n",
       "</div>"
      ],
      "text/plain": [
       "               timestamp     value  is_anomaly\n",
       "0    1970-01-01 00:00:01  0.000000           0\n",
       "1    1970-01-01 00:00:02  0.091758           0\n",
       "2    1970-01-01 00:00:03  0.172297           0\n",
       "3    1970-01-01 00:00:04  0.226219           0\n",
       "4    1970-01-01 00:00:05  0.176358           0\n",
       "...                  ...       ...         ...\n",
       "1415 1970-01-01 00:23:36  0.159675           0\n",
       "1416 1970-01-01 00:23:37  0.137626           0\n",
       "1417 1970-01-01 00:23:38  0.197441           0\n",
       "1418 1970-01-01 00:23:39  0.161966           0\n",
       "1419 1970-01-01 00:23:40  0.111648           0\n",
       "\n",
       "[1420 rows x 3 columns]"
      ]
     },
     "execution_count": 26,
     "metadata": {},
     "output_type": "execute_result"
    }
   ],
   "source": [
    "df"
   ]
  },
  {
   "cell_type": "code",
   "execution_count": 52,
   "metadata": {},
   "outputs": [
    {
     "data": {
      "image/png": "[encoded data removed]",
      "text/plain": [
       "<Figure size 432x288 with 1 Axes>"
      ]
     },
     "metadata": {
      "needs_background": "light"
     },
     "output_type": "display_data"
    }
   ],
   "source": [
    "#plt.plot(df['timestamp'], df['value'])\n",
    "plt.xlabel=\"Date\"\n",
    "plt.ylabel=\"Server Traffic\"\n",
    "plt.plot(df['timestamp'], df['value'])\n",
    "plt.plot(df['timestamp'],df['is_anomaly'])\n",
    "plt.show()"
   ]
  },
  {
   "cell_type": "code",
   "execution_count": 51,
   "metadata": {},
   "outputs": [],
   "source": [
    "#plt.xlabel=\"Date\"\n",
    "#plt.ylabel=\"Server Traffic\"\n",
    "#plt.scatter(df['timestamp'], df['value'])\n",
    "#plt.plot(df['timestamp'],df['is_anomaly'], \"ro\")\n",
    "#plt.show()"
   ]
  },
  {
   "cell_type": "code",
   "execution_count": 53,
   "metadata": {},
   "outputs": [
    {
     "data": {
      "text/html": [
       "<div>\n",
       "<style scoped>\n",
       "    .dataframe tbody tr th:only-of-type {\n",
       "        vertical-align: middle;\n",
       "    }\n",
       "\n",
       "    .dataframe tbody tr th {\n",
       "        vertical-align: top;\n",
       "    }\n",
       "\n",
       "    .dataframe thead th {\n",
       "        text-align: right;\n",
       "    }\n",
       "</style>\n",
       "<table border=\"1\" class=\"dataframe\">\n",
       "  <thead>\n",
       "    <tr style=\"text-align: right;\">\n",
       "      <th></th>\n",
       "      <th>timestamp</th>\n",
       "      <th>value</th>\n",
       "      <th>is_anomaly</th>\n",
       "    </tr>\n",
       "  </thead>\n",
       "  <tbody>\n",
       "    <tr>\n",
       "      <td>0</td>\n",
       "      <td>1970-01-01 00:00:01</td>\n",
       "      <td>0.000000</td>\n",
       "      <td>0</td>\n",
       "    </tr>\n",
       "    <tr>\n",
       "      <td>1</td>\n",
       "      <td>1970-01-01 00:00:02</td>\n",
       "      <td>0.091758</td>\n",
       "      <td>0</td>\n",
       "    </tr>\n",
       "    <tr>\n",
       "      <td>2</td>\n",
       "      <td>1970-01-01 00:00:03</td>\n",
       "      <td>0.172297</td>\n",
       "      <td>0</td>\n",
       "    </tr>\n",
       "    <tr>\n",
       "      <td>3</td>\n",
       "      <td>1970-01-01 00:00:04</td>\n",
       "      <td>0.226219</td>\n",
       "      <td>0</td>\n",
       "    </tr>\n",
       "    <tr>\n",
       "      <td>4</td>\n",
       "      <td>1970-01-01 00:00:05</td>\n",
       "      <td>0.176358</td>\n",
       "      <td>0</td>\n",
       "    </tr>\n",
       "    <tr>\n",
       "      <td>...</td>\n",
       "      <td>...</td>\n",
       "      <td>...</td>\n",
       "      <td>...</td>\n",
       "    </tr>\n",
       "    <tr>\n",
       "      <td>1415</td>\n",
       "      <td>1970-01-01 00:23:36</td>\n",
       "      <td>0.159675</td>\n",
       "      <td>0</td>\n",
       "    </tr>\n",
       "    <tr>\n",
       "      <td>1416</td>\n",
       "      <td>1970-01-01 00:23:37</td>\n",
       "      <td>0.137626</td>\n",
       "      <td>0</td>\n",
       "    </tr>\n",
       "    <tr>\n",
       "      <td>1417</td>\n",
       "      <td>1970-01-01 00:23:38</td>\n",
       "      <td>0.197441</td>\n",
       "      <td>0</td>\n",
       "    </tr>\n",
       "    <tr>\n",
       "      <td>1418</td>\n",
       "      <td>1970-01-01 00:23:39</td>\n",
       "      <td>0.161966</td>\n",
       "      <td>0</td>\n",
       "    </tr>\n",
       "    <tr>\n",
       "      <td>1419</td>\n",
       "      <td>1970-01-01 00:23:40</td>\n",
       "      <td>0.111648</td>\n",
       "      <td>0</td>\n",
       "    </tr>\n",
       "  </tbody>\n",
       "</table>\n",
       "<p>1420 rows × 3 columns</p>\n",
       "</div>"
      ],
      "text/plain": [
       "               timestamp     value  is_anomaly\n",
       "0    1970-01-01 00:00:01  0.000000           0\n",
       "1    1970-01-01 00:00:02  0.091758           0\n",
       "2    1970-01-01 00:00:03  0.172297           0\n",
       "3    1970-01-01 00:00:04  0.226219           0\n",
       "4    1970-01-01 00:00:05  0.176358           0\n",
       "...                  ...       ...         ...\n",
       "1415 1970-01-01 00:23:36  0.159675           0\n",
       "1416 1970-01-01 00:23:37  0.137626           0\n",
       "1417 1970-01-01 00:23:38  0.197441           0\n",
       "1418 1970-01-01 00:23:39  0.161966           0\n",
       "1419 1970-01-01 00:23:40  0.111648           0\n",
       "\n",
       "[1420 rows x 3 columns]"
      ]
     },
     "execution_count": 53,
     "metadata": {},
     "output_type": "execute_result"
    }
   ],
   "source": [
    "df"
   ]
  },
  {
   "cell_type": "code",
   "execution_count": 54,
   "metadata": {},
   "outputs": [],
   "source": [
    "df_indexed = df.set_index('timestamp')"
   ]
  },
  {
   "cell_type": "code",
   "execution_count": 55,
   "metadata": {},
   "outputs": [
    {
     "data": {
      "text/html": [
       "<div>\n",
       "<style scoped>\n",
       "    .dataframe tbody tr th:only-of-type {\n",
       "        vertical-align: middle;\n",
       "    }\n",
       "\n",
       "    .dataframe tbody tr th {\n",
       "        vertical-align: top;\n",
       "    }\n",
       "\n",
       "    .dataframe thead th {\n",
       "        text-align: right;\n",
       "    }\n",
       "</style>\n",
       "<table border=\"1\" class=\"dataframe\">\n",
       "  <thead>\n",
       "    <tr style=\"text-align: right;\">\n",
       "      <th></th>\n",
       "      <th>value</th>\n",
       "      <th>is_anomaly</th>\n",
       "    </tr>\n",
       "    <tr>\n",
       "      <th>timestamp</th>\n",
       "      <th></th>\n",
       "      <th></th>\n",
       "    </tr>\n",
       "  </thead>\n",
       "  <tbody>\n",
       "    <tr>\n",
       "      <td>1970-01-01 00:00:01</td>\n",
       "      <td>0.000000</td>\n",
       "      <td>0</td>\n",
       "    </tr>\n",
       "    <tr>\n",
       "      <td>1970-01-01 00:00:02</td>\n",
       "      <td>0.091758</td>\n",
       "      <td>0</td>\n",
       "    </tr>\n",
       "    <tr>\n",
       "      <td>1970-01-01 00:00:03</td>\n",
       "      <td>0.172297</td>\n",
       "      <td>0</td>\n",
       "    </tr>\n",
       "    <tr>\n",
       "      <td>1970-01-01 00:00:04</td>\n",
       "      <td>0.226219</td>\n",
       "      <td>0</td>\n",
       "    </tr>\n",
       "    <tr>\n",
       "      <td>1970-01-01 00:00:05</td>\n",
       "      <td>0.176358</td>\n",
       "      <td>0</td>\n",
       "    </tr>\n",
       "    <tr>\n",
       "      <td>...</td>\n",
       "      <td>...</td>\n",
       "      <td>...</td>\n",
       "    </tr>\n",
       "    <tr>\n",
       "      <td>1970-01-01 00:23:36</td>\n",
       "      <td>0.159675</td>\n",
       "      <td>0</td>\n",
       "    </tr>\n",
       "    <tr>\n",
       "      <td>1970-01-01 00:23:37</td>\n",
       "      <td>0.137626</td>\n",
       "      <td>0</td>\n",
       "    </tr>\n",
       "    <tr>\n",
       "      <td>1970-01-01 00:23:38</td>\n",
       "      <td>0.197441</td>\n",
       "      <td>0</td>\n",
       "    </tr>\n",
       "    <tr>\n",
       "      <td>1970-01-01 00:23:39</td>\n",
       "      <td>0.161966</td>\n",
       "      <td>0</td>\n",
       "    </tr>\n",
       "    <tr>\n",
       "      <td>1970-01-01 00:23:40</td>\n",
       "      <td>0.111648</td>\n",
       "      <td>0</td>\n",
       "    </tr>\n",
       "  </tbody>\n",
       "</table>\n",
       "<p>1420 rows × 2 columns</p>\n",
       "</div>"
      ],
      "text/plain": [
       "                        value  is_anomaly\n",
       "timestamp                                \n",
       "1970-01-01 00:00:01  0.000000           0\n",
       "1970-01-01 00:00:02  0.091758           0\n",
       "1970-01-01 00:00:03  0.172297           0\n",
       "1970-01-01 00:00:04  0.226219           0\n",
       "1970-01-01 00:00:05  0.176358           0\n",
       "...                       ...         ...\n",
       "1970-01-01 00:23:36  0.159675           0\n",
       "1970-01-01 00:23:37  0.137626           0\n",
       "1970-01-01 00:23:38  0.197441           0\n",
       "1970-01-01 00:23:39  0.161966           0\n",
       "1970-01-01 00:23:40  0.111648           0\n",
       "\n",
       "[1420 rows x 2 columns]"
      ]
     },
     "execution_count": 55,
     "metadata": {},
     "output_type": "execute_result"
    }
   ],
   "source": [
    "df_indexed"
   ]
  },
  {
   "cell_type": "code",
   "execution_count": 56,
   "metadata": {},
   "outputs": [],
   "source": [
    "values = df_indexed.copy()"
   ]
  },
  {
   "cell_type": "code",
   "execution_count": 57,
   "metadata": {},
   "outputs": [
    {
     "data": {
      "text/html": [
       "<div>\n",
       "<style scoped>\n",
       "    .dataframe tbody tr th:only-of-type {\n",
       "        vertical-align: middle;\n",
       "    }\n",
       "\n",
       "    .dataframe tbody tr th {\n",
       "        vertical-align: top;\n",
       "    }\n",
       "\n",
       "    .dataframe thead th {\n",
       "        text-align: right;\n",
       "    }\n",
       "</style>\n",
       "<table border=\"1\" class=\"dataframe\">\n",
       "  <thead>\n",
       "    <tr style=\"text-align: right;\">\n",
       "      <th></th>\n",
       "      <th>value</th>\n",
       "      <th>is_anomaly</th>\n",
       "    </tr>\n",
       "    <tr>\n",
       "      <th>timestamp</th>\n",
       "      <th></th>\n",
       "      <th></th>\n",
       "    </tr>\n",
       "  </thead>\n",
       "  <tbody>\n",
       "    <tr>\n",
       "      <td>1970-01-01 00:00:01</td>\n",
       "      <td>0.000000</td>\n",
       "      <td>0</td>\n",
       "    </tr>\n",
       "    <tr>\n",
       "      <td>1970-01-01 00:00:02</td>\n",
       "      <td>0.091758</td>\n",
       "      <td>0</td>\n",
       "    </tr>\n",
       "    <tr>\n",
       "      <td>1970-01-01 00:00:03</td>\n",
       "      <td>0.172297</td>\n",
       "      <td>0</td>\n",
       "    </tr>\n",
       "    <tr>\n",
       "      <td>1970-01-01 00:00:04</td>\n",
       "      <td>0.226219</td>\n",
       "      <td>0</td>\n",
       "    </tr>\n",
       "    <tr>\n",
       "      <td>1970-01-01 00:00:05</td>\n",
       "      <td>0.176358</td>\n",
       "      <td>0</td>\n",
       "    </tr>\n",
       "    <tr>\n",
       "      <td>...</td>\n",
       "      <td>...</td>\n",
       "      <td>...</td>\n",
       "    </tr>\n",
       "    <tr>\n",
       "      <td>1970-01-01 00:23:36</td>\n",
       "      <td>0.159675</td>\n",
       "      <td>0</td>\n",
       "    </tr>\n",
       "    <tr>\n",
       "      <td>1970-01-01 00:23:37</td>\n",
       "      <td>0.137626</td>\n",
       "      <td>0</td>\n",
       "    </tr>\n",
       "    <tr>\n",
       "      <td>1970-01-01 00:23:38</td>\n",
       "      <td>0.197441</td>\n",
       "      <td>0</td>\n",
       "    </tr>\n",
       "    <tr>\n",
       "      <td>1970-01-01 00:23:39</td>\n",
       "      <td>0.161966</td>\n",
       "      <td>0</td>\n",
       "    </tr>\n",
       "    <tr>\n",
       "      <td>1970-01-01 00:23:40</td>\n",
       "      <td>0.111648</td>\n",
       "      <td>0</td>\n",
       "    </tr>\n",
       "  </tbody>\n",
       "</table>\n",
       "<p>1420 rows × 2 columns</p>\n",
       "</div>"
      ],
      "text/plain": [
       "                        value  is_anomaly\n",
       "timestamp                                \n",
       "1970-01-01 00:00:01  0.000000           0\n",
       "1970-01-01 00:00:02  0.091758           0\n",
       "1970-01-01 00:00:03  0.172297           0\n",
       "1970-01-01 00:00:04  0.226219           0\n",
       "1970-01-01 00:00:05  0.176358           0\n",
       "...                       ...         ...\n",
       "1970-01-01 00:23:36  0.159675           0\n",
       "1970-01-01 00:23:37  0.137626           0\n",
       "1970-01-01 00:23:38  0.197441           0\n",
       "1970-01-01 00:23:39  0.161966           0\n",
       "1970-01-01 00:23:40  0.111648           0\n",
       "\n",
       "[1420 rows x 2 columns]"
      ]
     },
     "execution_count": 57,
     "metadata": {},
     "output_type": "execute_result"
    }
   ],
   "source": [
    "values"
   ]
  },
  {
   "cell_type": "code",
   "execution_count": 58,
   "metadata": {},
   "outputs": [],
   "source": [
    "values = values.drop(columns=['is_anomaly'],axis=1)"
   ]
  },
  {
   "cell_type": "code",
   "execution_count": 59,
   "metadata": {},
   "outputs": [
    {
     "data": {
      "text/html": [
       "<div>\n",
       "<style scoped>\n",
       "    .dataframe tbody tr th:only-of-type {\n",
       "        vertical-align: middle;\n",
       "    }\n",
       "\n",
       "    .dataframe tbody tr th {\n",
       "        vertical-align: top;\n",
       "    }\n",
       "\n",
       "    .dataframe thead th {\n",
       "        text-align: right;\n",
       "    }\n",
       "</style>\n",
       "<table border=\"1\" class=\"dataframe\">\n",
       "  <thead>\n",
       "    <tr style=\"text-align: right;\">\n",
       "      <th></th>\n",
       "      <th>value</th>\n",
       "    </tr>\n",
       "    <tr>\n",
       "      <th>timestamp</th>\n",
       "      <th></th>\n",
       "    </tr>\n",
       "  </thead>\n",
       "  <tbody>\n",
       "    <tr>\n",
       "      <td>1970-01-01 00:00:01</td>\n",
       "      <td>0.000000</td>\n",
       "    </tr>\n",
       "    <tr>\n",
       "      <td>1970-01-01 00:00:02</td>\n",
       "      <td>0.091758</td>\n",
       "    </tr>\n",
       "    <tr>\n",
       "      <td>1970-01-01 00:00:03</td>\n",
       "      <td>0.172297</td>\n",
       "    </tr>\n",
       "    <tr>\n",
       "      <td>1970-01-01 00:00:04</td>\n",
       "      <td>0.226219</td>\n",
       "    </tr>\n",
       "    <tr>\n",
       "      <td>1970-01-01 00:00:05</td>\n",
       "      <td>0.176358</td>\n",
       "    </tr>\n",
       "    <tr>\n",
       "      <td>...</td>\n",
       "      <td>...</td>\n",
       "    </tr>\n",
       "    <tr>\n",
       "      <td>1970-01-01 00:23:36</td>\n",
       "      <td>0.159675</td>\n",
       "    </tr>\n",
       "    <tr>\n",
       "      <td>1970-01-01 00:23:37</td>\n",
       "      <td>0.137626</td>\n",
       "    </tr>\n",
       "    <tr>\n",
       "      <td>1970-01-01 00:23:38</td>\n",
       "      <td>0.197441</td>\n",
       "    </tr>\n",
       "    <tr>\n",
       "      <td>1970-01-01 00:23:39</td>\n",
       "      <td>0.161966</td>\n",
       "    </tr>\n",
       "    <tr>\n",
       "      <td>1970-01-01 00:23:40</td>\n",
       "      <td>0.111648</td>\n",
       "    </tr>\n",
       "  </tbody>\n",
       "</table>\n",
       "<p>1420 rows × 1 columns</p>\n",
       "</div>"
      ],
      "text/plain": [
       "                        value\n",
       "timestamp                    \n",
       "1970-01-01 00:00:01  0.000000\n",
       "1970-01-01 00:00:02  0.091758\n",
       "1970-01-01 00:00:03  0.172297\n",
       "1970-01-01 00:00:04  0.226219\n",
       "1970-01-01 00:00:05  0.176358\n",
       "...                       ...\n",
       "1970-01-01 00:23:36  0.159675\n",
       "1970-01-01 00:23:37  0.137626\n",
       "1970-01-01 00:23:38  0.197441\n",
       "1970-01-01 00:23:39  0.161966\n",
       "1970-01-01 00:23:40  0.111648\n",
       "\n",
       "[1420 rows x 1 columns]"
      ]
     },
     "execution_count": 59,
     "metadata": {},
     "output_type": "execute_result"
    }
   ],
   "source": [
    "values"
   ]
  },
  {
   "cell_type": "code",
   "execution_count": 60,
   "metadata": {},
   "outputs": [
    {
     "data": {
      "text/plain": [
       "(2, 1418)"
      ]
     },
     "execution_count": 60,
     "metadata": {},
     "output_type": "execute_result"
    }
   ],
   "source": [
    "p = len(df[df.is_anomaly == 1])\n",
    "n = len(df[df.is_anomaly == 0])\n",
    "p,n"
   ]
  }
 ],
 "metadata": {
  "kernelspec": {
   "display_name": "Python 3",
   "language": "python",
   "name": "python3"
  },
  "language_info": {
   "codemirror_mode": {
    "name": "ipython",
    "version": 3
   },
   "file_extension": ".py",
   "mimetype": "text/x-python",
   "name": "python",
   "nbconvert_exporter": "python",
   "pygments_lexer": "ipython3",
   "version": "3.7.3"
  }
 },
 "nbformat": 4,
 "nbformat_minor": 2
}
